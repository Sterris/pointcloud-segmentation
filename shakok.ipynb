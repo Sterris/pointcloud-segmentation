{
 "cells": [
  {
   "cell_type": "code",
   "execution_count": 1,
   "metadata": {},
   "outputs": [
    {
     "ename": "RuntimeError",
     "evalue": "",
     "output_type": "error",
     "traceback": [
      "\u001b[0;31m---------------------------------------------------------------------------\u001b[0m",
      "\u001b[0;31mRuntimeError\u001b[0m                              Traceback (most recent call last)",
      "\u001b[0;32m<ipython-input-1-9bf7e198418b>\u001b[0m in \u001b[0;36m<module>\u001b[0;34m()\u001b[0m\n\u001b[1;32m     19\u001b[0m \u001b[0mcoords_f\u001b[0m \u001b[0;34m=\u001b[0m \u001b[0mnp\u001b[0m\u001b[0;34m.\u001b[0m\u001b[0masarray\u001b[0m\u001b[0;34m(\u001b[0m\u001b[0mnc\u001b[0m\u001b[0;34m)\u001b[0m\u001b[0;34m\u001b[0m\u001b[0;34m\u001b[0m\u001b[0m\n\u001b[1;32m     20\u001b[0m \u001b[0;34m\u001b[0m\u001b[0m\n\u001b[0;32m---> 21\u001b[0;31m \u001b[0mpcd_f\u001b[0m\u001b[0;34m.\u001b[0m\u001b[0mpoints\u001b[0m \u001b[0;34m=\u001b[0m \u001b[0mo3d\u001b[0m\u001b[0;34m.\u001b[0m\u001b[0mutility\u001b[0m\u001b[0;34m.\u001b[0m\u001b[0mVector3dVector\u001b[0m\u001b[0;34m(\u001b[0m\u001b[0mcoords_f\u001b[0m\u001b[0;34m)\u001b[0m\u001b[0;34m\u001b[0m\u001b[0;34m\u001b[0m\u001b[0m\n\u001b[0m\u001b[1;32m     22\u001b[0m \u001b[0mo3d\u001b[0m\u001b[0;34m.\u001b[0m\u001b[0mio\u001b[0m\u001b[0;34m.\u001b[0m\u001b[0mwrite_point_cloud\u001b[0m\u001b[0;34m(\u001b[0m\u001b[0;34m\"finalproject_segment.ply\"\u001b[0m\u001b[0;34m,\u001b[0m \u001b[0mpcd_f\u001b[0m\u001b[0;34m)\u001b[0m\u001b[0;34m\u001b[0m\u001b[0;34m\u001b[0m\u001b[0m\n\u001b[1;32m     23\u001b[0m \u001b[0;34m\u001b[0m\u001b[0m\n",
      "\u001b[0;31mRuntimeError\u001b[0m: "
     ]
    }
   ],
   "source": [
    "from pyntcloud import PyntCloud\n",
    "import open3d as o3d\n",
    "import numpy as np\n",
    "import laspy\n",
    "from sklearn.decomposition import PCA\n",
    "\n",
    "\n",
    "# FILTERING\n",
    "pc_2 = PyntCloud.from_file(\"finalproject.ply\")\n",
    "coords_f = np.asarray(pc_2.points)\n",
    "\n",
    "pcd_f = o3d.geometry.PointCloud()\n",
    "\n",
    "nc = []\n",
    "\n",
    "for p in coords_f:\n",
    "      if p[0] > 576750 and p[0] < 576950 and p[1] > 7032500 and p[1] < 7032700:\n",
    "        nc.append(p)\n",
    "coords_f = np.asarray(nc)\n",
    "\n",
    "pcd_f.points = o3d.utility.Vector3dVector(coords_f)\n",
    "o3d.io.write_point_cloud(\"finalproject_segment.ply\", pcd_f)\n",
    "\n"
   ]
  },
  {
   "cell_type": "code",
   "execution_count": null,
   "metadata": {},
   "outputs": [],
   "source": [
    "pcd = o3d.io.read_point_cloud(\"finalproject_segment.ply\")\n",
    "\n",
    "\n",
    "# Visualize Point Cloud\n",
    "o3d.visualization.draw_geometries([pcd_f])\n",
    "\n",
    "\n",
    "print(\"Statistical oulier removal\")\n",
    "cl, ind = pcd.remove_statistical_outlier(nb_neighbors=20, std_ratio=2.0)\n",
    "o3d.visualization.draw_geometries([cl])\n",
    "\n",
    "o3d.io.write_point_cloud(\"finalproject_wn.ply\", cl)\n",
    "pc = PyntCloud.from_file(\"finalproject_wn.ply\")\n",
    "pcd_array = np.asarray(pc.points)"
   ]
  },
  {
   "cell_type": "code",
   "execution_count": null,
   "metadata": {},
   "outputs": [],
   "source": [
    "# Voxelization\n",
    "voxelgrid_id = pc.add_structure(\"voxelgrid\", size_x=2, size_y=2, size_z=2)\n",
    "voxelgrid = pc.structures[voxelgrid_id]\n",
    "voxels = voxelgrid.voxel_n\n",
    "\n",
    "print(\"Number of voxels: \", len(voxels))\n",
    "print(\"Voxel IDs: \", voxels)\n",
    "\n",
    "# Voxels containing points\n",
    "occupied_voxels = np.unique(voxelgrid.voxel_n)\n",
    "print (\"Number of occupied voxels: \", len(occupied_voxels))\n",
    "\n",
    "# Visualize voxels\n",
    "voxelgrid.plot(d=3, mode=\"density\", cmap=\"hsv\")"
   ]
  },
  {
   "cell_type": "code",
   "execution_count": 1,
   "metadata": {},
   "outputs": [
    {
     "ename": "NameError",
     "evalue": "name 'sd' is not defined",
     "output_type": "error",
     "traceback": [
      "\u001b[0;31m---------------------------------------------------------------------------\u001b[0m",
      "\u001b[0;31mNameError\u001b[0m                                 Traceback (most recent call last)",
      "\u001b[0;32m<ipython-input-1-2ecc676676c7>\u001b[0m in \u001b[0;36m<module>\u001b[0;34m()\u001b[0m\n\u001b[0;32m----> 1\u001b[0;31m \u001b[0msd\u001b[0m\u001b[0;34m\u001b[0m\u001b[0;34m\u001b[0m\u001b[0m\n\u001b[0m",
      "\u001b[0;31mNameError\u001b[0m: name 'sd' is not defined"
     ]
    }
   ],
   "source": [
    "#Principal Components Analysis\n",
    "pca = PCA(n_components=3)\n",
    "\n",
    "roofs = np.zeros((1,3))\n",
    "trees = np.zeros((1,3))\n",
    "terrain = np.zeros((1,3))\n",
    "uncategorized = np.zeros((1,3))\n",
    "\n",
    "# Feature detection\n",
    "for voxel in occupied_voxels:\n",
    "    tmp = np.where(voxelgrid.voxel_n == voxel)\n",
    "    voxel_points = pcd_array[tmp]\n",
    "\n",
    "\n",
    "\n",
    "    if len(tmp[0]) > 2:\n",
    "        pca.fit(voxel_points)\n",
    "\n",
    "        ev = pca.explained_variance_ratio_  # Eigenvalues (explained_variance_ratio_)\n",
    "\n",
    "        # Shape features\n",
    "        l1, l2, l3 = ev\n",
    "        L = (l1 - l2) / l1  # Linearity, verdi mellom 0-1, 1D, tree\n",
    "        P = (l2 - l3) / l1  # Planarity, 2D, terreng\n",
    "        S = l3 / l1  # Scattering, sphericity, 3D, bygning.\n",
    "        O = (l1 * l2 * l3) ** (1 / 3)  # Omnivariance\n",
    "        sum_ev = l1 + l2 + l3  # Sum of eigenvalues, denne er alltid 1, så ikke nå vits å bruke denne\n",
    "        A = (l1 - l3) / l1  # Anisotropy\n",
    "        #E = -1 * ((l1 * np.log(l1)) + (l2 * np.log(l2)) + (l3 * np.log(l3)))  # Eigenentropy\n",
    "        change_curvature = l3 / sum_ev  # Change of curvature\n",
    "        shape_features = [L, P, S, O, sum_ev, A, change_curvature] #Removed E \n",
    "        \n",
    "        \n",
    "        \n",
    "        #if S > L:\n",
    "        #    roofs = np.append(roofs, voxel_points, axis=0)\n",
    "            \n",
    "        \n",
    "        if S > 0.1 and L > 0.1: #and L > P and L > S:\n",
    "            trees = np.append(trees, voxel_points, axis=0)\n",
    "            \n",
    "        \n",
    "        if P > L:\n",
    "            terrain = np.append(terrain, voxel_points, axis=0)\n",
    "        \n",
    "        \n",
    "        \n",
    "        \n",
    "        #else:\n",
    "           # uncategorized = np.append(uncategorized, voxel_points, axis=0)\n",
    "        \n",
    "        \n",
    "trees = np.delete(trees, 0, axis=0)  #grønn\n",
    "pcd_tree = o3d.geometry.PointCloud()\n",
    "pcd_tree.points = o3d.utility.Vector3dVector(trees)\n",
    "pcd_tree.paint_uniform_color([0, 0.5, 0.3])\n",
    " \n",
    "roofs = np.delete(roofs, 0, axis=0)   #rød      \n",
    "pcd_roof = o3d.geometry.PointCloud()\n",
    "pcd_roof.points = o3d.utility.Vector3dVector(roofs) \n",
    "pcd_roof.paint_uniform_color([1, 0, 0])\n",
    "\n",
    "terrain = np.delete(terrain, 0, axis=0)   #gul\n",
    "pcd_terrain = o3d.geometry.PointCloud()\n",
    "pcd_terrain.points = o3d.utility.Vector3dVector(terrain)\n",
    "pcd_terrain.paint_uniform_color([0.9, 0.7, 0])\n",
    "\n",
    "#uncategorized = np.delete(uncategorized, 0, axis=0) #blå\n",
    "#pcd_uncategorized = o3d.geometry.PointCloud()\n",
    "#pcd_uncategorized = o3d.utility.Vector3dVector(uncategorized)\n",
    "#pcd_uncategorized.paint_uniform_color([0, 0, 1])\n",
    "\n",
    "o3d.visualization.draw_geometries([pcd_tree, pcd_roof, pcd_terrain])"
   ]
  },
  {
   "cell_type": "code",
   "execution_count": null,
   "metadata": {},
   "outputs": [],
   "source": []
  }
 ],
 "metadata": {
  "kernelspec": {
   "display_name": "Python 3",
   "language": "python",
   "name": "python3"
  },
  "language_info": {
   "codemirror_mode": {
    "name": "ipython",
    "version": 3
   },
   "file_extension": ".py",
   "mimetype": "text/x-python",
   "name": "python",
   "nbconvert_exporter": "python",
   "pygments_lexer": "ipython3",
   "version": "3.7.9"
  }
 },
 "nbformat": 4,
 "nbformat_minor": 4
}
