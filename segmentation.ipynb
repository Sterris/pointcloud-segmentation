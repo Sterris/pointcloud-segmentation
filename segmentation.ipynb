{
 "cells": [
  {
   "cell_type": "code",
   "execution_count": 1,
   "metadata": {},
   "outputs": [],
   "source": [
    "import open3d as o3d\n",
    "from pyntcloud import PyntCloud\n",
    "import numpy as np\n",
    "from sklearn.decomposition import PCA\n",
    "import pandas as pd"
   ]
  },
  {
   "cell_type": "markdown",
   "metadata": {},
   "source": [
    "Before voxelisation we process point cloud by remove outliers. This step is justified beacuse"
   ]
  },
  {
   "cell_type": "code",
   "execution_count": 2,
   "metadata": {},
   "outputs": [],
   "source": [
    "#pcd = o3d.io.read_point_cloud(\"finalproject.ply\")\n",
    "#cl, ind = pcd.remove_statistical_outlier(nb_neighbors=20, std_ratio=2.0)\n",
    "#o3d.visualization.draw_geometries([cl])\n",
    "#o3d.io.write_point_cloud(\"finalproject_wn.ply\", cl)\n",
    "pc = PyntCloud.from_file(\"finalproject.ply\")\n",
    "pcd_array = np.asarray(pc.points)\n",
    "#sample = np.random.choice(pcd_array, size=(200,3,2))"
   ]
  },
  {
   "cell_type": "code",
   "execution_count": 3,
   "metadata": {},
   "outputs": [
    {
     "name": "stdout",
     "output_type": "stream",
     "text": [
      "Number of voxels:  24134667\n",
      "Voxel IDs:  [38974 38974 38974 ... 76771 76771 76771]\n"
     ]
    },
    {
     "data": {
      "application/vnd.jupyter.widget-view+json": {
       "model_id": "43e250c24cb14051b554d7cf3ec1d904",
       "version_major": 2,
       "version_minor": 0
      },
      "text/plain": [
       "Renderer(camera=PerspectiveCamera(aspect=1.6, fov=90.0, position=(24.292713165283203, 72.53204345703125, 65.68…"
      ]
     },
     "metadata": {},
     "output_type": "display_data"
    }
   ],
   "source": [
    "voxelgrid_id = pc.add_structure(\"voxelgrid\", size_x=50, size_y=50, n_z=50)\n",
    "voxelgrid = pc.structures[voxelgrid_id]\n",
    "voxels = voxelgrid.voxel_n\n",
    "\n",
    "print(\"Number of voxels: \", len(voxels))\n",
    "print(\"Voxel IDs: \", voxels)\n",
    "\n",
    "# Voxels containing points\n",
    "occupied_voxels = np.unique(voxelgrid.voxel_n)\n",
    "\n",
    "# Visualize voxels\n",
    "voxelgrid.plot(d=3, mode=\"density\", cmap=\"hsv\")"
   ]
  },
  {
   "cell_type": "code",
   "execution_count": 23,
   "metadata": {},
   "outputs": [],
   "source": [
    "pca = PCA(n_components=3)\n",
    "all_voxel_info_tmp = []\n",
    "\n",
    "\n",
    "for voxel in occupied_voxels:\n",
    "    ev=[]\n",
    "    \n",
    "    tmp = np.where(voxelgrid.voxel_n == voxel) #Gets all points that are in voxel\n",
    "    voxel_points = pcd_array[tmp] #Gets all points that are in voxel\n",
    "    \n",
    "    xyzmax = np.array([voxel_points[:,0].max(), voxel_points[:,1].max(), voxel_points[:,2].max()])\n",
    "    xyzmin = np.array([voxel_points[:,0].min(), voxel_points[:,1].min(), voxel_points[:,2].min()])\n",
    "    xyzmean = np.array([voxel_points[:,0].mean(), voxel_points[:,1].mean(), voxel_points[:,2].mean()])\n",
    "    num_points = len(voxel_points)\n",
    "    \n",
    "    linearity ,planerity, scattering, omnivariance, sum_ev, anistropy, eigentropy, curvature_change = 0,0,0,0,0,0,0,0\n",
    "    \n",
    "    if (len(tmp[0])) > 2: #minimum number of points to do PCA=3. Should probably exluce voxels based on N points earlier.\n",
    "        pca.fit(voxel_points[:,:3])\n",
    "        ev = pca.explained_variance_ratio_ #eigenvalues ratio. If you want to use sum of eigenvalues remember de_ratio.\n",
    "        EV = pca.explained_variance_\n",
    "        \n",
    "        # Shape features\n",
    "        l1, l2, l3 = ev\n",
    "        L1,L2,L3 =EV\n",
    "        linearity = (l1 - l2) / l1\n",
    "        planerity = (l2 - l3) / l1  \n",
    "        scattering = l3 / l1 \n",
    "        omnivariance = (l1 * l2 * l3) ** (1 / 3) \n",
    "        sum_ev = L1 + L2 + L3 \n",
    "        anistropy = (l1 - l3) / l1 \n",
    "        curvature_change = l3 / sum_ev  \n",
    "\n",
    "        if(0 not in ev):\n",
    "            eigentropy = -1 * ((l1 * np.log(l1)) + (l2 * np.log(l2)) + (l3 * np.log(l3)))\n",
    "\n",
    "\n",
    "        \n",
    "        \n",
    "    res = np.array([voxel, linearity ,planerity,scattering, omnivariance, sum_ev,anistropy, eigentropy, curvature_change, num_points])\n",
    "    all_voxel_info_tmp.append(res)\n",
    "        \n",
    "\n",
    "            \n",
    "\n",
    "        "
   ]
  },
  {
   "cell_type": "code",
   "execution_count": 24,
   "metadata": {},
   "outputs": [
    {
     "data": {
      "text/plain": [
       "array([[3.84240000e+04, 3.84250000e+04, 3.84740000e+04, ...,\n",
       "        7.67220000e+04, 7.67710000e+04, 7.67720000e+04],\n",
       "       [3.82715918e-01, 9.70527948e-01, 1.44632562e-01, ...,\n",
       "        9.55360145e-01, 2.10198376e-02, 9.33563057e-01],\n",
       "       [5.17493210e-01, 2.81295533e-02, 7.46737194e-01, ...,\n",
       "        3.34744209e-02, 9.41951763e-01, 5.25263866e-02],\n",
       "       ...,\n",
       "       [8.47993637e-01, 1.39725903e-01, 8.65800512e-01, ...,\n",
       "        2.33294079e-01, 7.71975227e-01, 2.99075296e-01],\n",
       "       [1.36223345e-04, 7.30871696e-05, 1.24867135e-04, ...,\n",
       "        1.60764767e-04, 4.37144165e-05, 3.59307329e-04],\n",
       "       [1.59800000e+04, 1.30000000e+01, 2.94090000e+04, ...,\n",
       "        2.11000000e+02, 1.89280000e+04, 4.71000000e+02]])"
      ]
     },
     "execution_count": 24,
     "metadata": {},
     "output_type": "execute_result"
    }
   ],
   "source": [
    "tmp_arr = np.asarray(all_voxel_info_tmp)\n",
    "tmp_arr.T"
   ]
  },
  {
   "cell_type": "code",
   "execution_count": 26,
   "metadata": {},
   "outputs": [
    {
     "data": {
      "text/html": [
       "<div>\n",
       "<style scoped>\n",
       "    .dataframe tbody tr th:only-of-type {\n",
       "        vertical-align: middle;\n",
       "    }\n",
       "\n",
       "    .dataframe tbody tr th {\n",
       "        vertical-align: top;\n",
       "    }\n",
       "\n",
       "    .dataframe thead th {\n",
       "        text-align: right;\n",
       "    }\n",
       "</style>\n",
       "<table border=\"1\" class=\"dataframe\">\n",
       "  <thead>\n",
       "    <tr style=\"text-align: right;\">\n",
       "      <th></th>\n",
       "      <th>voxel_id</th>\n",
       "      <th>linearity</th>\n",
       "      <th>planerity</th>\n",
       "      <th>scattering</th>\n",
       "      <th>omnivariance</th>\n",
       "      <th>sum_ev</th>\n",
       "      <th>anistropy</th>\n",
       "      <th>eigentropy</th>\n",
       "      <th>curvature_change</th>\n",
       "      <th>num_points</th>\n",
       "    </tr>\n",
       "  </thead>\n",
       "  <tbody>\n",
       "    <tr>\n",
       "      <th>0</th>\n",
       "      <td>38424.0</td>\n",
       "      <td>0.382716</td>\n",
       "      <td>0.517493</td>\n",
       "      <td>0.099791</td>\n",
       "      <td>0.230004</td>\n",
       "      <td>426.628658</td>\n",
       "      <td>0.900209</td>\n",
       "      <td>0.847994</td>\n",
       "      <td>0.000136</td>\n",
       "      <td>15980.0</td>\n",
       "    </tr>\n",
       "    <tr>\n",
       "      <th>1</th>\n",
       "      <td>38425.0</td>\n",
       "      <td>0.970528</td>\n",
       "      <td>0.028130</td>\n",
       "      <td>0.001342</td>\n",
       "      <td>0.033057</td>\n",
       "      <td>17.819368</td>\n",
       "      <td>0.998658</td>\n",
       "      <td>0.139726</td>\n",
       "      <td>0.000073</td>\n",
       "      <td>13.0</td>\n",
       "    </tr>\n",
       "    <tr>\n",
       "      <th>2</th>\n",
       "      <td>38474.0</td>\n",
       "      <td>0.144633</td>\n",
       "      <td>0.746737</td>\n",
       "      <td>0.108630</td>\n",
       "      <td>0.230618</td>\n",
       "      <td>442.957070</td>\n",
       "      <td>0.891370</td>\n",
       "      <td>0.865801</td>\n",
       "      <td>0.000125</td>\n",
       "      <td>29409.0</td>\n",
       "    </tr>\n",
       "    <tr>\n",
       "      <th>3</th>\n",
       "      <td>38475.0</td>\n",
       "      <td>0.926341</td>\n",
       "      <td>0.071406</td>\n",
       "      <td>0.002254</td>\n",
       "      <td>0.051081</td>\n",
       "      <td>83.082028</td>\n",
       "      <td>0.997746</td>\n",
       "      <td>0.264506</td>\n",
       "      <td>0.000025</td>\n",
       "      <td>138.0</td>\n",
       "    </tr>\n",
       "    <tr>\n",
       "      <th>4</th>\n",
       "      <td>38524.0</td>\n",
       "      <td>0.118431</td>\n",
       "      <td>0.804858</td>\n",
       "      <td>0.076711</td>\n",
       "      <td>0.208047</td>\n",
       "      <td>428.364451</td>\n",
       "      <td>0.923289</td>\n",
       "      <td>0.829395</td>\n",
       "      <td>0.000091</td>\n",
       "      <td>27849.0</td>\n",
       "    </tr>\n",
       "    <tr>\n",
       "      <th>...</th>\n",
       "      <td>...</td>\n",
       "      <td>...</td>\n",
       "      <td>...</td>\n",
       "      <td>...</td>\n",
       "      <td>...</td>\n",
       "      <td>...</td>\n",
       "      <td>...</td>\n",
       "      <td>...</td>\n",
       "      <td>...</td>\n",
       "      <td>...</td>\n",
       "    </tr>\n",
       "    <tr>\n",
       "      <th>1229</th>\n",
       "      <td>76672.0</td>\n",
       "      <td>0.965350</td>\n",
       "      <td>0.028331</td>\n",
       "      <td>0.006319</td>\n",
       "      <td>0.057901</td>\n",
       "      <td>155.419261</td>\n",
       "      <td>0.993681</td>\n",
       "      <td>0.182819</td>\n",
       "      <td>0.000039</td>\n",
       "      <td>658.0</td>\n",
       "    </tr>\n",
       "    <tr>\n",
       "      <th>1230</th>\n",
       "      <td>76721.0</td>\n",
       "      <td>0.126328</td>\n",
       "      <td>0.846718</td>\n",
       "      <td>0.026955</td>\n",
       "      <td>0.150810</td>\n",
       "      <td>401.198797</td>\n",
       "      <td>0.973045</td>\n",
       "      <td>0.755511</td>\n",
       "      <td>0.000035</td>\n",
       "      <td>18246.0</td>\n",
       "    </tr>\n",
       "    <tr>\n",
       "      <th>1231</th>\n",
       "      <td>76722.0</td>\n",
       "      <td>0.955360</td>\n",
       "      <td>0.033474</td>\n",
       "      <td>0.011165</td>\n",
       "      <td>0.075096</td>\n",
       "      <td>65.781062</td>\n",
       "      <td>0.988835</td>\n",
       "      <td>0.233294</td>\n",
       "      <td>0.000161</td>\n",
       "      <td>211.0</td>\n",
       "    </tr>\n",
       "    <tr>\n",
       "      <th>1232</th>\n",
       "      <td>76771.0</td>\n",
       "      <td>0.021020</td>\n",
       "      <td>0.941952</td>\n",
       "      <td>0.037028</td>\n",
       "      <td>0.164164</td>\n",
       "      <td>420.163075</td>\n",
       "      <td>0.962972</td>\n",
       "      <td>0.771975</td>\n",
       "      <td>0.000044</td>\n",
       "      <td>18928.0</td>\n",
       "    </tr>\n",
       "    <tr>\n",
       "      <th>1233</th>\n",
       "      <td>76772.0</td>\n",
       "      <td>0.933563</td>\n",
       "      <td>0.052526</td>\n",
       "      <td>0.013911</td>\n",
       "      <td>0.090162</td>\n",
       "      <td>35.835622</td>\n",
       "      <td>0.986089</td>\n",
       "      <td>0.299075</td>\n",
       "      <td>0.000359</td>\n",
       "      <td>471.0</td>\n",
       "    </tr>\n",
       "  </tbody>\n",
       "</table>\n",
       "<p>1234 rows × 10 columns</p>\n",
       "</div>"
      ],
      "text/plain": [
       "      voxel_id  linearity  planerity  scattering  omnivariance      sum_ev  \\\n",
       "0      38424.0   0.382716   0.517493    0.099791      0.230004  426.628658   \n",
       "1      38425.0   0.970528   0.028130    0.001342      0.033057   17.819368   \n",
       "2      38474.0   0.144633   0.746737    0.108630      0.230618  442.957070   \n",
       "3      38475.0   0.926341   0.071406    0.002254      0.051081   83.082028   \n",
       "4      38524.0   0.118431   0.804858    0.076711      0.208047  428.364451   \n",
       "...        ...        ...        ...         ...           ...         ...   \n",
       "1229   76672.0   0.965350   0.028331    0.006319      0.057901  155.419261   \n",
       "1230   76721.0   0.126328   0.846718    0.026955      0.150810  401.198797   \n",
       "1231   76722.0   0.955360   0.033474    0.011165      0.075096   65.781062   \n",
       "1232   76771.0   0.021020   0.941952    0.037028      0.164164  420.163075   \n",
       "1233   76772.0   0.933563   0.052526    0.013911      0.090162   35.835622   \n",
       "\n",
       "      anistropy  eigentropy  curvature_change  num_points  \n",
       "0      0.900209    0.847994          0.000136     15980.0  \n",
       "1      0.998658    0.139726          0.000073        13.0  \n",
       "2      0.891370    0.865801          0.000125     29409.0  \n",
       "3      0.997746    0.264506          0.000025       138.0  \n",
       "4      0.923289    0.829395          0.000091     27849.0  \n",
       "...         ...         ...               ...         ...  \n",
       "1229   0.993681    0.182819          0.000039       658.0  \n",
       "1230   0.973045    0.755511          0.000035     18246.0  \n",
       "1231   0.988835    0.233294          0.000161       211.0  \n",
       "1232   0.962972    0.771975          0.000044     18928.0  \n",
       "1233   0.986089    0.299075          0.000359       471.0  \n",
       "\n",
       "[1234 rows x 10 columns]"
      ]
     },
     "execution_count": 26,
     "metadata": {},
     "output_type": "execute_result"
    }
   ],
   "source": [
    "#res = voxel, ev, xyzmax, xyzmin, xyzmean, num_points\n",
    "arr = np.asarray(all_voxel_info_tmp)\n",
    "# intialise data of lists. \n",
    "# Create DataFrame use id as index\n",
    "df = pd.DataFrame(arr) \n",
    "#df.set_index(0)\n",
    "df.columns = ['voxel_id', 'linearity', 'planerity', 'scattering', 'omnivariance', 'sum_ev', 'anistropy', 'eigentropy', 'curvature_change', 'num_points']\n",
    "#df = df.astype({\"voxel_id\": int, 'num_points':int})\n",
    "df = df.dropna()\n",
    "#df = df.mask(df.eq('NoneType')).dropna()\n",
    "df"
   ]
  },
  {
   "cell_type": "code",
   "execution_count": 29,
   "metadata": {},
   "outputs": [
    {
     "data": {
      "text/plain": [
       "<AxesSubplot:xlabel='voxel_id'>"
      ]
     },
     "execution_count": 29,
     "metadata": {},
     "output_type": "execute_result"
    },
    {
     "ename": "AttributeError",
     "evalue": "'NoneType' object has no attribute 'extents'",
     "output_type": "error",
     "traceback": [
      "\u001b[0;31m---------------------------------------------------------------------------\u001b[0m",
      "\u001b[0;31mAttributeError\u001b[0m                            Traceback (most recent call last)",
      "\u001b[0;32m/Users/jakobsterri/opt/anaconda3/envs/3D-project/lib/python3.7/site-packages/IPython/core/formatters.py\u001b[0m in \u001b[0;36m__call__\u001b[0;34m(self, obj)\u001b[0m\n\u001b[1;32m    332\u001b[0m                 \u001b[0;32mpass\u001b[0m\u001b[0;34m\u001b[0m\u001b[0;34m\u001b[0m\u001b[0m\n\u001b[1;32m    333\u001b[0m             \u001b[0;32melse\u001b[0m\u001b[0;34m:\u001b[0m\u001b[0;34m\u001b[0m\u001b[0;34m\u001b[0m\u001b[0m\n\u001b[0;32m--> 334\u001b[0;31m                 \u001b[0;32mreturn\u001b[0m \u001b[0mprinter\u001b[0m\u001b[0;34m(\u001b[0m\u001b[0mobj\u001b[0m\u001b[0;34m)\u001b[0m\u001b[0;34m\u001b[0m\u001b[0;34m\u001b[0m\u001b[0m\n\u001b[0m\u001b[1;32m    335\u001b[0m             \u001b[0;31m# Finally look for special method names\u001b[0m\u001b[0;34m\u001b[0m\u001b[0;34m\u001b[0m\u001b[0;34m\u001b[0m\u001b[0m\n\u001b[1;32m    336\u001b[0m             \u001b[0mmethod\u001b[0m \u001b[0;34m=\u001b[0m \u001b[0mget_real_method\u001b[0m\u001b[0;34m(\u001b[0m\u001b[0mobj\u001b[0m\u001b[0;34m,\u001b[0m \u001b[0mself\u001b[0m\u001b[0;34m.\u001b[0m\u001b[0mprint_method\u001b[0m\u001b[0;34m)\u001b[0m\u001b[0;34m\u001b[0m\u001b[0;34m\u001b[0m\u001b[0m\n",
      "\u001b[0;32m/Users/jakobsterri/opt/anaconda3/envs/3D-project/lib/python3.7/site-packages/IPython/core/pylabtools.py\u001b[0m in \u001b[0;36m<lambda>\u001b[0;34m(fig)\u001b[0m\n\u001b[1;32m    245\u001b[0m \u001b[0;34m\u001b[0m\u001b[0m\n\u001b[1;32m    246\u001b[0m     \u001b[0;32mif\u001b[0m \u001b[0;34m'png'\u001b[0m \u001b[0;32min\u001b[0m \u001b[0mformats\u001b[0m\u001b[0;34m:\u001b[0m\u001b[0;34m\u001b[0m\u001b[0;34m\u001b[0m\u001b[0m\n\u001b[0;32m--> 247\u001b[0;31m         \u001b[0mpng_formatter\u001b[0m\u001b[0;34m.\u001b[0m\u001b[0mfor_type\u001b[0m\u001b[0;34m(\u001b[0m\u001b[0mFigure\u001b[0m\u001b[0;34m,\u001b[0m \u001b[0;32mlambda\u001b[0m \u001b[0mfig\u001b[0m\u001b[0;34m:\u001b[0m \u001b[0mprint_figure\u001b[0m\u001b[0;34m(\u001b[0m\u001b[0mfig\u001b[0m\u001b[0;34m,\u001b[0m \u001b[0;34m'png'\u001b[0m\u001b[0;34m,\u001b[0m \u001b[0;34m**\u001b[0m\u001b[0mkwargs\u001b[0m\u001b[0;34m)\u001b[0m\u001b[0;34m)\u001b[0m\u001b[0;34m\u001b[0m\u001b[0;34m\u001b[0m\u001b[0m\n\u001b[0m\u001b[1;32m    248\u001b[0m     \u001b[0;32mif\u001b[0m \u001b[0;34m'retina'\u001b[0m \u001b[0;32min\u001b[0m \u001b[0mformats\u001b[0m \u001b[0;32mor\u001b[0m \u001b[0;34m'png2x'\u001b[0m \u001b[0;32min\u001b[0m \u001b[0mformats\u001b[0m\u001b[0;34m:\u001b[0m\u001b[0;34m\u001b[0m\u001b[0;34m\u001b[0m\u001b[0m\n\u001b[1;32m    249\u001b[0m         \u001b[0mpng_formatter\u001b[0m\u001b[0;34m.\u001b[0m\u001b[0mfor_type\u001b[0m\u001b[0;34m(\u001b[0m\u001b[0mFigure\u001b[0m\u001b[0;34m,\u001b[0m \u001b[0;32mlambda\u001b[0m \u001b[0mfig\u001b[0m\u001b[0;34m:\u001b[0m \u001b[0mretina_figure\u001b[0m\u001b[0;34m(\u001b[0m\u001b[0mfig\u001b[0m\u001b[0;34m,\u001b[0m \u001b[0;34m**\u001b[0m\u001b[0mkwargs\u001b[0m\u001b[0;34m)\u001b[0m\u001b[0;34m)\u001b[0m\u001b[0;34m\u001b[0m\u001b[0;34m\u001b[0m\u001b[0m\n",
      "\u001b[0;32m/Users/jakobsterri/opt/anaconda3/envs/3D-project/lib/python3.7/site-packages/IPython/core/pylabtools.py\u001b[0m in \u001b[0;36mprint_figure\u001b[0;34m(fig, fmt, bbox_inches, **kwargs)\u001b[0m\n\u001b[1;32m    129\u001b[0m \u001b[0;34m\u001b[0m\u001b[0m\n\u001b[1;32m    130\u001b[0m     \u001b[0mbytes_io\u001b[0m \u001b[0;34m=\u001b[0m \u001b[0mBytesIO\u001b[0m\u001b[0;34m(\u001b[0m\u001b[0;34m)\u001b[0m\u001b[0;34m\u001b[0m\u001b[0;34m\u001b[0m\u001b[0m\n\u001b[0;32m--> 131\u001b[0;31m     \u001b[0mfig\u001b[0m\u001b[0;34m.\u001b[0m\u001b[0mcanvas\u001b[0m\u001b[0;34m.\u001b[0m\u001b[0mprint_figure\u001b[0m\u001b[0;34m(\u001b[0m\u001b[0mbytes_io\u001b[0m\u001b[0;34m,\u001b[0m \u001b[0;34m**\u001b[0m\u001b[0mkw\u001b[0m\u001b[0;34m)\u001b[0m\u001b[0;34m\u001b[0m\u001b[0;34m\u001b[0m\u001b[0m\n\u001b[0m\u001b[1;32m    132\u001b[0m     \u001b[0mdata\u001b[0m \u001b[0;34m=\u001b[0m \u001b[0mbytes_io\u001b[0m\u001b[0;34m.\u001b[0m\u001b[0mgetvalue\u001b[0m\u001b[0;34m(\u001b[0m\u001b[0;34m)\u001b[0m\u001b[0;34m\u001b[0m\u001b[0;34m\u001b[0m\u001b[0m\n\u001b[1;32m    133\u001b[0m     \u001b[0;32mif\u001b[0m \u001b[0mfmt\u001b[0m \u001b[0;34m==\u001b[0m \u001b[0;34m'svg'\u001b[0m\u001b[0;34m:\u001b[0m\u001b[0;34m\u001b[0m\u001b[0;34m\u001b[0m\u001b[0m\n",
      "\u001b[0;32m/Users/jakobsterri/opt/anaconda3/envs/3D-project/lib/python3.7/site-packages/matplotlib/backend_bases.py\u001b[0m in \u001b[0;36mprint_figure\u001b[0;34m(self, filename, dpi, facecolor, edgecolor, orientation, format, bbox_inches, pad_inches, bbox_extra_artists, backend, **kwargs)\u001b[0m\n\u001b[1;32m   2194\u001b[0m \u001b[0;34m\u001b[0m\u001b[0m\n\u001b[1;32m   2195\u001b[0m                     bbox_inches = self.figure.get_tightbbox(\n\u001b[0;32m-> 2196\u001b[0;31m                         renderer, bbox_extra_artists=bbox_extra_artists)\n\u001b[0m\u001b[1;32m   2197\u001b[0m                     \u001b[0;32mif\u001b[0m \u001b[0mpad_inches\u001b[0m \u001b[0;32mis\u001b[0m \u001b[0;32mNone\u001b[0m\u001b[0;34m:\u001b[0m\u001b[0;34m\u001b[0m\u001b[0;34m\u001b[0m\u001b[0m\n\u001b[1;32m   2198\u001b[0m                         \u001b[0mpad_inches\u001b[0m \u001b[0;34m=\u001b[0m \u001b[0mrcParams\u001b[0m\u001b[0;34m[\u001b[0m\u001b[0;34m'savefig.pad_inches'\u001b[0m\u001b[0;34m]\u001b[0m\u001b[0;34m\u001b[0m\u001b[0;34m\u001b[0m\u001b[0m\n",
      "\u001b[0;32m/Users/jakobsterri/opt/anaconda3/envs/3D-project/lib/python3.7/site-packages/matplotlib/figure.py\u001b[0m in \u001b[0;36mget_tightbbox\u001b[0;34m(self, renderer, bbox_extra_artists)\u001b[0m\n\u001b[1;32m   2504\u001b[0m \u001b[0;34m\u001b[0m\u001b[0m\n\u001b[1;32m   2505\u001b[0m         \u001b[0;32mfor\u001b[0m \u001b[0ma\u001b[0m \u001b[0;32min\u001b[0m \u001b[0martists\u001b[0m\u001b[0;34m:\u001b[0m\u001b[0;34m\u001b[0m\u001b[0;34m\u001b[0m\u001b[0m\n\u001b[0;32m-> 2506\u001b[0;31m             \u001b[0mbbox\u001b[0m \u001b[0;34m=\u001b[0m \u001b[0ma\u001b[0m\u001b[0;34m.\u001b[0m\u001b[0mget_tightbbox\u001b[0m\u001b[0;34m(\u001b[0m\u001b[0mrenderer\u001b[0m\u001b[0;34m)\u001b[0m\u001b[0;34m\u001b[0m\u001b[0;34m\u001b[0m\u001b[0m\n\u001b[0m\u001b[1;32m   2507\u001b[0m             \u001b[0;32mif\u001b[0m \u001b[0mbbox\u001b[0m \u001b[0;32mis\u001b[0m \u001b[0;32mnot\u001b[0m \u001b[0;32mNone\u001b[0m \u001b[0;32mand\u001b[0m \u001b[0;34m(\u001b[0m\u001b[0mbbox\u001b[0m\u001b[0;34m.\u001b[0m\u001b[0mwidth\u001b[0m \u001b[0;34m!=\u001b[0m \u001b[0;36m0\u001b[0m \u001b[0;32mor\u001b[0m \u001b[0mbbox\u001b[0m\u001b[0;34m.\u001b[0m\u001b[0mheight\u001b[0m \u001b[0;34m!=\u001b[0m \u001b[0;36m0\u001b[0m\u001b[0;34m)\u001b[0m\u001b[0;34m:\u001b[0m\u001b[0;34m\u001b[0m\u001b[0;34m\u001b[0m\u001b[0m\n\u001b[1;32m   2508\u001b[0m                 \u001b[0mbb\u001b[0m\u001b[0;34m.\u001b[0m\u001b[0mappend\u001b[0m\u001b[0;34m(\u001b[0m\u001b[0mbbox\u001b[0m\u001b[0;34m)\u001b[0m\u001b[0;34m\u001b[0m\u001b[0;34m\u001b[0m\u001b[0m\n",
      "\u001b[0;32m/Users/jakobsterri/opt/anaconda3/envs/3D-project/lib/python3.7/site-packages/matplotlib/axes/_base.py\u001b[0m in \u001b[0;36mget_tightbbox\u001b[0;34m(self, renderer, call_axes_locator, bbox_extra_artists, for_layout_only)\u001b[0m\n\u001b[1;32m   4194\u001b[0m                 clip_extent = mtransforms.Bbox.intersection(\n\u001b[1;32m   4195\u001b[0m                     clip_extent, axbbox)\n\u001b[0;32m-> 4196\u001b[0;31m                 \u001b[0;32mif\u001b[0m \u001b[0mnp\u001b[0m\u001b[0;34m.\u001b[0m\u001b[0mall\u001b[0m\u001b[0;34m(\u001b[0m\u001b[0mclip_extent\u001b[0m\u001b[0;34m.\u001b[0m\u001b[0mextents\u001b[0m \u001b[0;34m==\u001b[0m \u001b[0maxbbox\u001b[0m\u001b[0;34m.\u001b[0m\u001b[0mextents\u001b[0m\u001b[0;34m)\u001b[0m\u001b[0;34m:\u001b[0m\u001b[0;34m\u001b[0m\u001b[0;34m\u001b[0m\u001b[0m\n\u001b[0m\u001b[1;32m   4197\u001b[0m                     \u001b[0;31m# clip extent is inside the axes bbox so don't check\u001b[0m\u001b[0;34m\u001b[0m\u001b[0;34m\u001b[0m\u001b[0;34m\u001b[0m\u001b[0m\n\u001b[1;32m   4198\u001b[0m                     \u001b[0;31m# this artist\u001b[0m\u001b[0;34m\u001b[0m\u001b[0;34m\u001b[0m\u001b[0;34m\u001b[0m\u001b[0m\n",
      "\u001b[0;31mAttributeError\u001b[0m: 'NoneType' object has no attribute 'extents'"
     ]
    },
    {
     "data": {
      "text/plain": [
       "<Figure size 432x288 with 1 Axes>"
      ]
     },
     "metadata": {
      "needs_background": "light"
     },
     "output_type": "display_data"
    }
   ],
   "source": [
    "df.plot(x='voxel_id', y='num_points')"
   ]
  },
  {
   "cell_type": "markdown",
   "metadata": {},
   "source": [
    "Here begins the actual segmentation part. Now we have voxelized the pointcloud and the result is 475999 occupied voxels. "
   ]
  },
  {
   "cell_type": "code",
   "execution_count": 17,
   "metadata": {},
   "outputs": [
    {
     "data": {
      "text/plain": [
       "False"
      ]
     },
     "execution_count": 17,
     "metadata": {},
     "output_type": "execute_result"
    }
   ],
   "source": []
  },
  {
   "cell_type": "code",
   "execution_count": null,
   "metadata": {},
   "outputs": [],
   "source": [
    "res"
   ]
  },
  {
   "cell_type": "markdown",
   "metadata": {},
   "source": [
    "Now each entry in all_voxel_info_tmp -> [voxel number, [eigenvalues]]. But we want to use more information than just the result from the PCA. We can take advantage of knowledge as density, min-coords, max-coords and means. Thus we add three new fields as  -> density : dtype float, [min-coords], [max-coords], mean : float. \n",
    "Remember that this will be the cell-block above will be the main method of this project. Smarter to just do all data-processing in this loop. "
   ]
  },
  {
   "cell_type": "code",
   "execution_count": null,
   "metadata": {},
   "outputs": [],
   "source": [
    "density_feature_vector = voxelgrid.get_feature_vector(mode=\"density\") #percentage of points per cloud - relative scale\n",
    "len(density_feature_vector) # = density_feature_vector*len(occupied_voxels)\n",
    "binary_feature_vector = voxelgrid.get_feature_vector(mode=\"binary\")\n",
    "#x_max_feature_vector = voxelgrid.get_feature_vector(mode=\"x_max\")\n"
   ]
  },
  {
   "cell_type": "code",
   "execution_count": null,
   "metadata": {
    "scrolled": true
   },
   "outputs": [],
   "source": [
    "\n",
    "print(len(all_voxel_info_tmp))\n",
    " \n",
    "#for i in range(len(all_voxel_info_tmp)):\n",
    "    \n",
    "    "
   ]
  },
  {
   "cell_type": "code",
   "execution_count": null,
   "metadata": {},
   "outputs": [],
   "source": [
    "pc"
   ]
  },
  {
   "cell_type": "code",
   "execution_count": null,
   "metadata": {},
   "outputs": [],
   "source": []
  }
 ],
 "metadata": {
  "kernelspec": {
   "display_name": "Python 3",
   "language": "python",
   "name": "python3"
  },
  "language_info": {
   "codemirror_mode": {
    "name": "ipython",
    "version": 3
   },
   "file_extension": ".py",
   "mimetype": "text/x-python",
   "name": "python",
   "nbconvert_exporter": "python",
   "pygments_lexer": "ipython3",
   "version": "3.7.9"
  }
 },
 "nbformat": 4,
 "nbformat_minor": 4
}
